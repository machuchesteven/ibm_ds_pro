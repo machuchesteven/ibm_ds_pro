{
 "cells": [
  {
   "cell_type": "markdown",
   "id": "a0f534c7-736e-4616-b483-9a559af5ed45",
   "metadata": {},
   "source": [
    "# Data Science Tools and Ecosystem\n"
   ]
  },
  {
   "cell_type": "markdown",
   "id": "10e3f703-56a3-4d80-b76d-b0e9db36b5ec",
   "metadata": {},
   "source": [
    "In this notebook, Data Science Tools and Ecosystem are summarized."
   ]
  },
  {
   "cell_type": "markdown",
   "id": "d7e36d8a-fa45-4d99-968f-e2de1190e8c3",
   "metadata": {},
   "source": [
    "Some of the popular languages that Data Scientists use are:\n",
    "\n",
    "1. Julia\n",
    "2. Python\n",
    "3. R"
   ]
  },
  {
   "attachments": {},
   "cell_type": "markdown",
   "id": "59185831-d473-4eae-bca8-662122cebf12",
   "metadata": {},
   "source": [
    "Some of the commonly used libraries used by Data Scientists include:\n",
    "\n",
    "1. Spark\n",
    "2. Tensorflow\n",
    "3. PyTorch"
   ]
  },
  {
   "cell_type": "markdown",
   "id": "af946bec-3433-4f2f-995d-19a3dc50c749",
   "metadata": {},
   "source": [
    "| Data Science Tools|\n",
    "|-------------------|\n",
    "|JupyterLab         |\n",
    "|RStudio            |\n",
    "|Git and Github     |\n"
   ]
  },
  {
   "cell_type": "markdown",
   "id": "54b1028e-6229-42ae-9160-3da9c52ea658",
   "metadata": {},
   "source": [
    "### Below are a few examples of evaluating arithmetic expressions in Python"
   ]
  },
  {
   "cell_type": "code",
   "execution_count": null,
   "id": "f3545abc-f7b0-4164-bc40-322f12848369",
   "metadata": {},
   "outputs": [],
   "source": [
    "(3*4)+5"
   ]
  },
  {
   "cell_type": "code",
   "execution_count": null,
   "id": "43a8a6a0-1e9a-4256-ba82-a9871abd3789",
   "metadata": {},
   "outputs": [],
   "source": [
    "# This will convert 200 minutes to hours by diving by 60\n",
    "(200 / 60 )"
   ]
  },
  {
   "cell_type": "markdown",
   "id": "e091b73a-37a5-4d3e-8c06-7183c4c7065c",
   "metadata": {},
   "source": [
    "Objectives:\n",
    "\n",
    "- Introduce to Data Science tools\n",
    "- Review Data Science languages\n",
    "- Review Data Science libraries\n",
    "- Review the usage of JupyterLab and kernel in executing"
   ]
  },
  {
   "cell_type": "markdown",
   "id": "a5f82a8c-3ddb-44b6-9fe6-91f633cd4066",
   "metadata": {},
   "source": [
    "# Author\n",
    "\n",
    "Machuche Wambura"
   ]
  }
 ],
 "metadata": {
  "kernelspec": {
   "display_name": "Python 3 (ipykernel)",
   "language": "python",
   "name": "python3"
  },
  "language_info": {
   "codemirror_mode": {
    "name": "ipython",
    "version": 3
   },
   "file_extension": ".py",
   "mimetype": "text/x-python",
   "name": "python",
   "nbconvert_exporter": "python",
   "pygments_lexer": "ipython3",
   "version": "3.11.9"
  }
 },
 "nbformat": 4,
 "nbformat_minor": 5
}
